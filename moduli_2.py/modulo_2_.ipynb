{
 "cells": [
  {
   "cell_type": "code",
   "execution_count": 12,
   "metadata": {},
   "outputs": [
    {
     "name": "stdout",
     "output_type": "stream",
     "text": [
      "['brasil', 'argentina', 'china', 'japão', 'coreia', 'cuba']\n",
      "tamanho da lista: 6\n",
      "paris coreia\n",
      "país: cuba\n",
      "\n",
      "país colônbia\n",
      "['brasil', 'argentina', 'china', 'japão', 'colônbia', 'cuba']\n",
      "['argentina', 'china']\n",
      "['argentina', 'china', 'japão', 'colônbia']\n",
      "['china', 'japão', 'colônbia', 'cuba']\n",
      "['brasil', 'argentina', 'china']\n",
      "['brasil', 'argentina', 'china', 'japão', 'colônbia', 'cuba']\n",
      "['brasil', 'argentina', 'china', 'japão', 'colônbia', 'cuba']\n",
      "['brasil', 'china', 'colônbia']\n",
      "['cuba', 'colônbia', 'japão', 'china', 'argentina', 'brasil']\n",
      "True\n",
      "False\n",
      "\n",
      "['brasilia', 'buenos aires', 'pequim', 'bogota']\n",
      "['brasilia', 'buenos aires', 'paris', 'pequim', 'bogota']\n",
      "['brasilia', 'paris', 'pequim', 'bogota']\n",
      "['brasilia', 'paris', 'bogota'] pequim\n",
      "\n",
      "('brasil', 'argentina', 'china', 'canadá', 'japão')\n",
      "('brasil', 'argentina', 'china', 'canada', 'japão')\n",
      "brasil china canada\n",
      "brasil argentina china canada japão\n"
     ]
    }
   ],
   "source": [
    "nomes_paises=['brasil', 'argentina','china', 'japão', 'coreia', 'cuba']\n",
    "print( nomes_paises,)\n",
    "print('tamanho da lista:', len(nomes_paises))\n",
    "print('paris', nomes_paises [4])\n",
    "print('país:' , nomes_paises [-1])\n",
    "print('')\n",
    "nomes_paises[4]='colônbia'\n",
    "print('país', nomes_paises[4])\n",
    "print (nomes_paises)\n",
    "\n",
    "print (nomes_paises[1:3])\n",
    "print (nomes_paises [1:-1])\n",
    "print (nomes_paises[2:])\n",
    "print (nomes_paises[:3])\n",
    "print (nomes_paises[:])\n",
    "print (nomes_paises)\n",
    "print (nomes_paises [::2])\n",
    "print(nomes_paises [::-1])\n",
    "print(\"brasil\" in nomes_paises)\n",
    "print('china' not in nomes_paises)\n",
    "\n",
    "print()\n",
    "lista_capitais=[]\n",
    "lista_capitais .append('brasilia')\n",
    "lista_capitais .append('buenos aires')\n",
    "lista_capitais .append('pequim')\n",
    "lista_capitais .append('bogota')\n",
    "print(lista_capitais)\n",
    "lista_capitais.insert(2,'paris')\n",
    "print(lista_capitais)\n",
    "lista_capitais.remove('buenos aires')\n",
    "print(lista_capitais)\n",
    "removido=lista_capitais.pop(2)\n",
    "print(lista_capitais, removido)\n",
    "print()\n",
    "\n",
    "nome_paises=('brasil', 'argentina', 'china', 'canadá', 'japão')\n",
    "print(nome_paises)\n",
    "nome_pais='brasil', 'argentina', 'china', 'canada', 'japão'\n",
    "print(nome_pais),type(nome_pais)\n",
    "len(nome_pais)\n",
    "nome_pais[0]\n",
    "a,b,c,d,e = nome_pais\n",
    "print (a,c,d)\n",
    "print(*nome_pais)\n"
   ]
  },
  {
   "cell_type": "code",
   "execution_count": null,
   "metadata": {},
   "outputs": [],
   "source": []
  }
 ],
 "metadata": {
  "kernelspec": {
   "display_name": "Python 3.10.8 64-bit (microsoft store)",
   "language": "python",
   "name": "python3"
  },
  "language_info": {
   "codemirror_mode": {
    "name": "ipython",
    "version": 3
   },
   "file_extension": ".py",
   "mimetype": "text/x-python",
   "name": "python",
   "nbconvert_exporter": "python",
   "pygments_lexer": "ipython3",
   "version": "3.10.8"
  },
  "orig_nbformat": 4,
  "vscode": {
   "interpreter": {
    "hash": "e9e375da22a79186ffe49072ae6df2c8be50fc2c627f3d12cad18e70942528a3"
   }
  }
 },
 "nbformat": 4,
 "nbformat_minor": 2
}
