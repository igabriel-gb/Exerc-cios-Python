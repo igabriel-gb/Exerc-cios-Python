{
 "cells": [
  {
   "cell_type": "markdown",
   "metadata": {},
   "source": [
    "## 1. Faça um programa que peça um valor monetário e diminua-o em 15%. Seu programa deve imprimir a mensagem “O novo valor é [valor]”."
   ]
  },
  {
   "cell_type": "code",
   "execution_count": 1,
   "metadata": {},
   "outputs": [
    {
     "name": "stdout",
     "output_type": "stream",
     "text": [
      "o valor e de: 8.5\n"
     ]
    }
   ],
   "source": [
    "valor = int (input('digite o valor monetario que ser adiminuido em 15%: '))\n",
    "padrão = 15\n",
    "\n",
    "a = padrão * valor\n",
    "\n",
    "cem = 100\n",
    "\n",
    "b = a / cem\n",
    "\n",
    "somatória = valor - b\n",
    "print('o valor e de:', somatória)"
   ]
  },
  {
   "cell_type": "markdown",
   "metadata": {},
   "source": [
    "## 2. Faça um programa que leia a validade das informações:\n",
    "\n",
    "a. Idade: entre 0 e 150;\n",
    "\n",
    "b. Salário: maior que 0;\n",
    "\n",
    "c. Sexo: M, F ou Outro;\n",
    "\n",
    "O programa deve imprimir uma mensagem de erro para cada informação\n",
    "inválida."
   ]
  },
  {
   "cell_type": "code",
   "execution_count": 2,
   "metadata": {},
   "outputs": [
    {
     "name": "stdout",
     "output_type": "stream",
     "text": [
      "25.0 anos\n",
      "Masculino\n"
     ]
    }
   ],
   "source": [
    "#Idade entre 0 e 150\n",
    "while True:\n",
    "    try:\n",
    "        from datetime import date\n",
    "        data=date.today().year\n",
    "\n",
    "\n",
    "        pg1 = float(\n",
    "            input('Informe seu ano de nascimento: '))\n",
    "        idade = data - pg1\n",
    "        while pg1 < 0:\n",
    "            print(f'Erro, ano de nascimento invalido. Informe seu ano de nacsimento:  ')\n",
    "            idade = data - pg1\n",
    "        print(idade,'anos')\n",
    "        break\n",
    "\n",
    "    except ValueError:\n",
    "            loop = input(\"digite apenas numeros que continuar? sim ou não  \")[0]\n",
    "            if loop == 's':\n",
    "                continue\n",
    "            else:\n",
    "                print(\"Fim\")\n",
    "                break    \n",
    "\n",
    "#Salário maior que 0\n",
    "\n",
    "while True:\n",
    "    try:\n",
    "        salario = float(\n",
    "            input(\"digite seu salario aqui:  \"))\n",
    "        if salario < 0:\n",
    "            print(f'valor invalido')\n",
    "        \n",
    "        break\n",
    "    except ValueError:\n",
    "        loop = input(\"digite apenas numeros deseja continuar? sim ou não  \")\n",
    "        if loop == 's':\n",
    "            continue\n",
    "        else:\n",
    "            print(\"Fim\")\n",
    "            break\n",
    "\n",
    "#.Sexo: m, f ou outros;\n",
    "\n",
    "while True:\n",
    "    pg_c = str(input(f'Sexo que melhor o defina, digite [F] para feminino [M] masculino [O] para outros:  \\n'))[0].lower()\n",
    "    if pg_c in \"fmo\":\n",
    "        break\n",
    "    else:\n",
    "        print(\"opção invalida, tente novamente\")\n",
    "if pg_c == 'f':\n",
    "    print('Feminino')\n",
    "elif pg_c == 'm':\n",
    "    print('Masculino')\n",
    "elif pg_c == 'o':\n",
    "    print('Outros')\n"
   ]
  },
  {
   "cell_type": "markdown",
   "metadata": {},
   "source": [
    "# 3. Vamos fazer um programa para verificar quem é o assassino de um crime. Para descobrir o assassino, a polícia faz um pequeno questionário com 5 perguntas onde a resposta só pode ser sim ou não:\n",
    "\n",
    "a. Mora perto da vítima?\n",
    "b. Já trabalhou com a vítima?\n",
    "c. Telefonou para a vítima?\n",
    "d. Esteve no local do crime?\n",
    "e. Devia para a vítima?\n",
    "\n",
    "Cada resposta sim dá um ponto para o suspeito. A polícia considera que os\n",
    "suspeitos com 5 pontos são os assassinos, com 4 a 3 pontos são cúmplices e\n",
    "2 pontos são apenas suspeitos, necessitando outras investigações. Valores\n",
    "iguais ou abaixo de 1 são liberados."
   ]
  },
  {
   "cell_type": "code",
   "execution_count": 5,
   "metadata": {},
   "outputs": [
    {
     "name": "stdout",
     "output_type": "stream",
     "text": [
      "1ª ENTREVISTADO\n",
      "responda com SIM ou NÃO\n",
      "NÃO\n",
      "NÃO\n",
      "NÃO\n",
      "NÃO\n",
      "NÃO\n",
      "GABRIEL    1ª entrevistado\n",
      "o entrevistado deu 0 respostas SIM\n",
      "Não tivemos evidencias do entrevistado com a vitima, no intato o mesmo será LIBERADO\n",
      "2ª ENTREVISTADO\n",
      "responda com SIM ou NÃO\n",
      "NÃO\n",
      "SIM\n",
      "NÃO\n",
      "NÃO\n",
      "NÃO\n",
      "AFONSO    2ª entrevistado\n",
      "o entrevistado deu 1 respostas SIM\n",
      "Não tivemos evidencias do entrevistado com a vitima, no intato o mesmo será LIBERADO\n",
      "3ª ENTREVISTADO\n",
      "responda com SIM ou NÃO\n",
      "SIM\n",
      "SIM\n",
      "NÃO\n",
      "NÃO\n",
      "NÃO\n",
      "ERIKISON    3ª entrevistado\n",
      "o entrevistado deu 2 respostas SIM\n",
      "O entrevistado será considerado SUSPEITO até o fim das investigações\n",
      "4ª ENTREVISTADO\n",
      "responda com SIM ou NÃO\n",
      "SIM\n",
      "SIM\n",
      "SIM\n",
      "NÃO\n",
      "NÃO\n",
      "VICTOR    4ª entrevistado\n",
      "o entrevistado deu 3 respostas SIM\n",
      "Com base nas informações o entrevistado será considerado CÚMPLICE do crime\n",
      "5ª ENTREVISTADO\n",
      "responda com SIM ou NÃO\n",
      "SIM\n",
      "SIM\n",
      "NÃO\n",
      "SIM\n",
      "SIM\n",
      "EDERSON    5ª entrevistado\n",
      "o entrevistado deu 4 respostas SIM\n",
      "Com base nas informações o entrevistado será considerado CÚMPLICE do crime\n"
     ]
    }
   ],
   "source": [
    "contIdade_de_intrevistados = int(input(f'digite a contidade de intrevistados: \\n'))\n",
    "for p in range(1, contIdade_de_intrevistados):\n",
    "    print('{}ª ENTREVISTADO'.format (p+1))\n",
    "\n",
    "    sim = 0\n",
    "    nao = 0\n",
    "    \n",
    "    nome= input (str('nome: '))\n",
    "    a=print ('responda com SIM ou NÃO')\n",
    "    while True:\n",
    "        \n",
    "        pergunta_1 = str(input(f'1. Mora perto da vítima?  \\n'))[0].lower()\n",
    "        if pergunta_1 in \"sn\":\n",
    "            break\n",
    "        else:\n",
    "            print('opção invalida, responda com SIM ou NÃO')\n",
    "    if pergunta_1 == 's':\n",
    "        sim += 1\n",
    "        print('SIM')\n",
    "    elif pergunta_1 == 'n':\n",
    "        print('NÃO')\n",
    "\n",
    "    while True:\n",
    "        pergunta_2 = str(input(f'2. Já trabalhou com a vítima?  \\n'))[0].lower()\n",
    "        if pergunta_2 in \"sn\":\n",
    "            break\n",
    "        else:\n",
    "            print(\"opção invalida, responda com SIM ou NÃO\")\n",
    "    if pergunta_2 == 's':\n",
    "        sim += 1\n",
    "        print('SIM')\n",
    "    elif pergunta_2 == 'n':\n",
    "        print('NÃO')\n",
    "\n",
    "    while True:\n",
    "        pergunta_3 = str(input(f'3. Telefonou para a vítima  ?\\n'))[0].lower()\n",
    "        if pergunta_3 in \"sn\":\n",
    "            break\n",
    "        else:\n",
    "            print(\"opção invalida, responda com SIM ou NÃO\")\n",
    "    if pergunta_3 == 's':\n",
    "        sim += 1\n",
    "        print('SIM')\n",
    "    elif pergunta_3 == 'n':\n",
    "        print('NÃO')\n",
    "\n",
    "    while True:\n",
    "        pergunta_4 = str(input(f'4. Esteve no local do crime?  \\n'))[0].lower()\n",
    "        if pergunta_4 in \"sn\":\n",
    "            break\n",
    "        else:\n",
    "            print(\"opção invalida, responda com SIM ou NÃO\")\n",
    "    if pergunta_4 == 's':\n",
    "        sim += 1\n",
    "        print('SIM')\n",
    "    elif pergunta_4 == 'n':\n",
    "        print('NÃO')\n",
    "\n",
    "\n",
    "    while True:\n",
    "        pergunta_4 = str(input(f'5. devia para a vítima?  \\n'))[0].lower()\n",
    "        if pergunta_4 in \"sn\":\n",
    "            break\n",
    "        else:\n",
    "            print(\"opção invalida, responda com SIM ou NÃO\")\n",
    "    if pergunta_4 == 's':\n",
    "        sim += 1\n",
    "        print('SIM')\n",
    "    elif pergunta_4 == 'n':\n",
    "        print('NÃO')\n",
    "\n",
    "\n",
    "\n",
    "    print (nome, '   {}ª entrevistado'. format (p+1))\n",
    "\n",
    "    print(f\"o entrevistado deu {sim} respostas SIM\")\n",
    "\n",
    "    if sim == 5: print('De acordo com os dados coletados o entrevistado e considerado ASSASSINO')\n",
    "    elif sim == 4 : print('Com base nas informações o entrevistado será considerado CÚMPLICE do crime')\n",
    "    elif sim == 3: print('Com base nas informações o entrevistado será considerado CÚMPLICE do crime')\n",
    "    elif sim == 2: print('O entrevistado será considerado SUSPEITO até o fim das investigações')\n",
    "    else: \n",
    "        print('Não tivemos evidencias do entrevistado com a vitima, no intato o mesmo será LIBERADO')"
   ]
  },
  {
   "cell_type": "markdown",
   "metadata": {},
   "source": [
    "# 4. Faça um programa que imprima a tabuada do 9 (de 9 * 1 a 9 * 10) usando loops."
   ]
  },
  {
   "cell_type": "code",
   "execution_count": 1,
   "metadata": {},
   "outputs": [
    {
     "name": "stdout",
     "output_type": "stream",
     "text": [
      "9 intens conferidos\n",
      "18 intens conferidos\n",
      "27 intens conferidos\n",
      "36 intens conferidos\n",
      "45 intens conferidos\n",
      "54 intens conferidos\n",
      "63 intens conferidos\n",
      "72 intens conferidos\n",
      "81 intens conferidos\n",
      "90 intens conferidos\n",
      "chegamos ao fim da repetição do bloco 2\n"
     ]
    }
   ],
   "source": [
    "contador = 0\n",
    "while True:\n",
    "    if contador < 10:\n",
    "        contador = contador + 1\n",
    "        if contador :\n",
    "            print(9* contador, \"intens conferidos\")\n",
    "    else:\n",
    "        break\n",
    "print(\"chegamos ao fim da repetição do bloco 2\")\n"
   ]
  }
 ],
 "metadata": {
  "kernelspec": {
   "display_name": "Python 3.10.8 64-bit (microsoft store)",
   "language": "python",
   "name": "python3"
  },
  "language_info": {
   "codemirror_mode": {
    "name": "ipython",
    "version": 3
   },
   "file_extension": ".py",
   "mimetype": "text/x-python",
   "name": "python",
   "nbconvert_exporter": "python",
   "pygments_lexer": "ipython3",
   "version": "3.10.8"
  },
  "orig_nbformat": 4,
  "vscode": {
   "interpreter": {
    "hash": "e9e375da22a79186ffe49072ae6df2c8be50fc2c627f3d12cad18e70942528a3"
   }
  }
 },
 "nbformat": 4,
 "nbformat_minor": 2
}
